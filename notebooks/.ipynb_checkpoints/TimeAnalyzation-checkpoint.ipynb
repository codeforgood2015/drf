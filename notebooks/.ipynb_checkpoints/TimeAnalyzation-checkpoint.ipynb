{
 "metadata": {
  "name": "",
  "signature": "sha256:2203c08ed12cd244b1f67cedf9e91b7f5ba067548a3414a08fd9531eb88c1386"
 },
 "nbformat": 3,
 "nbformat_minor": 0,
 "worksheets": [
  {
   "cells": [
    {
     "cell_type": "code",
     "collapsed": false,
     "input": [
      "import tweepy\n",
      "import pandas as pd\n",
      "import datetime as dt\n",
      "import matplotlib.pyplot as plt\n",
      "import numpy as np"
     ],
     "language": "python",
     "metadata": {},
     "outputs": [],
     "prompt_number": 3
    },
    {
     "cell_type": "code",
     "collapsed": false,
     "input": [
      "##RODD'S EASY STATUS##\n",
      "\n",
      "#Returns True if the status given contains a photo; False is returned otherwise\n",
      "def hasPhoto(status):\n",
      "    try:\n",
      "        return status.entities['media'][0]['type']=='photo'\n",
      "    except KeyError:\n",
      "        return False\n",
      "    \n",
      "#Returns True if the status given contains a video; False is returned otherwise\n",
      "###############CAN BE IMPROVED!!!!!! Is there another way to figure out if it is a video besides looking at the link url?  This method is pretty lacking right now.\n",
      "def hasVideo(status):\n",
      "    try:\n",
      "        return (status.entities['urls'][0]['expanded_url'][0:15]=='http://youtu.be' or status.entities['urls'][0]['expanded_url'][0:15]=='http://youtube.')\n",
      "    except IndexError:\n",
      "        return False\n",
      "    \n",
      "#Returns the number of hashtags in the given status as an integer.  If there are none, 0 is returned.\n",
      "def hashtagCount(status):\n",
      "    return len(status.entities['hashtags'])\n",
      "\n",
      "#Returns the number of links in the given status as an integer.  If there are none, 0 is returned.\n",
      "def linkCount(status):\n",
      "    if hasVideo(status):\n",
      "      return 0\n",
      "    else:\n",
      "      return len(status.entities['urls'])\n",
      "\n",
      "#Returns the number of user mentions in the given status as an integer.  If there are none, 0 is returned.\n",
      "def mentionCount(status):\n",
      "    return len(status.entities['user_mentions'])\n",
      "\n",
      "#Returns True if the status given is a retweet; False is returned otherwise\n",
      "def isRetweet(status):\n",
      "    if 'RT'==status.text[0:2]:\n",
      "        return True\n",
      "    else:\n",
      "        return False\n",
      "            \n",
      "#This is a class compiling all of the attributes of interest in an easier way to interpret\n",
      "class easyStatus:\n",
      "    def __init__(self,status):\n",
      "        self.id=status.id\n",
      "        self.text=status.text\n",
      "        self.time=status.created_at\n",
      "        \n",
      "        if hasPhoto(status):\n",
      "            self.photo=True\n",
      "        else:\n",
      "            self.photo=False\n",
      "        if hasVideo(status):\n",
      "            self.video=True\n",
      "        else:\n",
      "            self.video=False\n",
      "            \n",
      "        self.hashtag_count=hashtagCount(status)\n",
      "        self.links=linkCount(status)\n",
      "        self.mentions=mentionCount(status)\n",
      "        \n",
      "        self.retweet_count=status.retweet_count\n",
      "        self.favorites=status.favorite_count\n",
      "\n",
      "        if isRetweet(status):\n",
      "            self.isRetweet=True\n",
      "        else:\n",
      "            self.isRetweet=False\n",
      "\n",
      "\n"
     ],
     "language": "python",
     "metadata": {},
     "outputs": [],
     "prompt_number": 4
    },
    {
     "cell_type": "code",
     "collapsed": false,
     "input": [
      "CONSUMER_KEY = \"ChnwcNuI0Y1lVh5fzs2etNJln\"\n",
      "CONSUMER_SECRET = \"c55H4th62k2pY3LntxJVs7OJtI1aHGeIZ4sKQ5V7HFxFE3Pgxw\"\n",
      "OAUTH_TOKEN = \"1096973484-VcCxzgZYAObOtulTXMKyCebu2aJMBUj1qIEOZ0g\"\n",
      "OAUTH_TOKEN_SECRET =\"9rIOi41D7guCCJTHYVjy4BfNnYvyWn0penVlm1GOgiUpl\"\n",
      "\n",
      "auth = tweepy.OAuthHandler(CONSUMER_KEY, CONSUMER_SECRET)\n",
      "auth.set_access_token(OAUTH_TOKEN, OAUTH_TOKEN_SECRET)\n",
      "\n",
      "api = tweepy.API(auth)\n",
      "\n",
      "public_tweets = api.home_timeline()\n",
      "print 'ready!'"
     ],
     "language": "python",
     "metadata": {},
     "outputs": [
      {
       "output_type": "stream",
       "stream": "stdout",
       "text": [
        "ready!\n"
       ]
      }
     ],
     "prompt_number": 5
    },
    {
     "cell_type": "code",
     "collapsed": false,
     "input": [
      "def make_df(twitter_handle):\n",
      "\n",
      "    #Graph Settings\n",
      "    pd.set_option('display.mpl_style', 'default')\n",
      "    # Always display all the columns\n",
      "    pd.set_option('display.width', 5000) \n",
      "    pd.set_option('display.max_columns', 60) \n",
      "\n",
      "    #DATA MAY NOT BE RIGHT TYPE!!!\n",
      "\n",
      "\n",
      "    df = pd.DataFrame(columns=('created_at', 'id', 'text', 'hashtag_count', 'retweet_count', 'retweeted', 'favorites_count', 'has_photo'), dtype=None)\n",
      "    for item in tweepy.Cursor(api.user_timeline, screen_name=twitter_handle).items(100):\n",
      "        index = len(df)\n",
      "        hashtags =item.entities['hashtags'] \n",
      "\n",
      "        tweet = easyStatus(item)\n",
      "\n",
      "        try:\n",
      "            has_photo = item.entities['media'][0]['type']=='photo'\n",
      "        except KeyError:\n",
      "            has_photo = False\n",
      "\n",
      "    #     df.set_value(index, 'id', item.id)\n",
      "    #     df.set_value(index, 'text', item.text)\n",
      "    #     df.set_value(index, 'hashtag', hashtags)\n",
      "    #     df.set_value(index, 'hashtag_count', len(hashtags))\n",
      "    #     df.set_value(index, 'retweet_count', item.retweet_count)\n",
      "    #     df.set_value(index, 'retweeted', item.retweeted) \n",
      "    #     #^^ always false \n",
      "    #     df.set_value(index, 'favorites_count', item.favorite_count)\n",
      "    #     df.set_value(index, 'created_at', item.created_at)\n",
      "    #     df.set_value(index, 'has_photo', has_photo)\n",
      "\n",
      "        #time important data\n",
      "        df.set_value(index, 'month', tweet.time.month)\n",
      "        df.set_value(index, 'weekday', tweet.time.weekday())\n",
      "        # ^^ if isRetweet, day retweeted, not day of original post \n",
      "        df.set_value(index, 'hour', tweet.time.hour)\n",
      "        df.set_value(index, 'minute', tweet.time.minute)\n",
      "\n",
      "        df.set_value(index, 'id', tweet.id)\n",
      "        df.set_value(index, 'text', tweet.text)\n",
      "        df.set_value(index, 'hashtag_count', tweet.hashtag_count)\n",
      "        df.set_value(index, 'retweet_count', tweet.retweet_count)\n",
      "        df.set_value(index, 'retweeted', tweet.isRetweet) \n",
      "        df.set_value(index, 'favorites_count', tweet.favorites)\n",
      "        df.set_value(index, 'created_at', tweet.time)\n",
      "        df.set_value(index, 'has_photo', tweet.photo)\n",
      "    return df\n"
     ],
     "language": "python",
     "metadata": {},
     "outputs": [],
     "prompt_number": 8
    },
    {
     "cell_type": "code",
     "collapsed": false,
     "input": [
      "df = make_df('DisabRightsFund')\n",
      "df.head(2)"
     ],
     "language": "python",
     "metadata": {},
     "outputs": [
      {
       "html": [
        "<div style=\"max-height:1000px;max-width:1500px;overflow:auto;\">\n",
        "<table border=\"1\" class=\"dataframe\">\n",
        "  <thead>\n",
        "    <tr style=\"text-align: right;\">\n",
        "      <th></th>\n",
        "      <th>created_at</th>\n",
        "      <th>id</th>\n",
        "      <th>text</th>\n",
        "      <th>hashtag_count</th>\n",
        "      <th>retweet_count</th>\n",
        "      <th>retweeted</th>\n",
        "      <th>favorites_count</th>\n",
        "      <th>has_photo</th>\n",
        "      <th>month</th>\n",
        "      <th>weekday</th>\n",
        "      <th>hour</th>\n",
        "      <th>minute</th>\n",
        "    </tr>\n",
        "  </thead>\n",
        "  <tbody>\n",
        "    <tr>\n",
        "      <th>0</th>\n",
        "      <td> 2015-01-23 16:51:24</td>\n",
        "      <td> 558668332115984384</td>\n",
        "      <td> RT @ONECampaign: #GatesLetter: http://t.co/t9v...</td>\n",
        "      <td> 1</td>\n",
        "      <td> 14</td>\n",
        "      <td> True</td>\n",
        "      <td> 0</td>\n",
        "      <td>  True</td>\n",
        "      <td> 1</td>\n",
        "      <td> 4</td>\n",
        "      <td> 16</td>\n",
        "      <td> 51</td>\n",
        "    </tr>\n",
        "    <tr>\n",
        "      <th>1</th>\n",
        "      <td> 2015-01-23 16:49:37</td>\n",
        "      <td> 558667880863391744</td>\n",
        "      <td> RT @GlblCtznUK: The year is 2015 and over 1 bi...</td>\n",
        "      <td> 1</td>\n",
        "      <td> 13</td>\n",
        "      <td> True</td>\n",
        "      <td> 0</td>\n",
        "      <td> False</td>\n",
        "      <td> 1</td>\n",
        "      <td> 4</td>\n",
        "      <td> 16</td>\n",
        "      <td> 49</td>\n",
        "    </tr>\n",
        "  </tbody>\n",
        "</table>\n",
        "</div>"
       ],
       "metadata": {},
       "output_type": "pyout",
       "prompt_number": 9,
       "text": [
        "            created_at                  id                                               text hashtag_count retweet_count retweeted favorites_count has_photo  month  weekday  hour  minute\n",
        "0  2015-01-23 16:51:24  558668332115984384  RT @ONECampaign: #GatesLetter: http://t.co/t9v...             1            14      True               0      True      1        4    16      51\n",
        "1  2015-01-23 16:49:37  558667880863391744  RT @GlblCtznUK: The year is 2015 and over 1 bi...             1            13      True               0     False      1        4    16      49"
       ]
      }
     ],
     "prompt_number": 9
    },
    {
     "cell_type": "code",
     "collapsed": false,
     "input": [
      "#turn the dataframe into a numpy array \n",
      "def get_np_array(df):\n",
      "    return df.values\n",
      "\n",
      "#tests np_array\n",
      "np_array = get_np_array(df)\n",
      "tweet = np_array[0]\n",
      "corrected_time = tweet[0] - dt.timedelta(hours=5)\n",
      "print corrected_time.hour*60 + corrected_time.minute"
     ],
     "language": "python",
     "metadata": {},
     "outputs": [
      {
       "output_type": "stream",
       "stream": "stdout",
       "text": [
        "711\n"
       ]
      }
     ],
     "prompt_number": 11
    },
    {
     "cell_type": "code",
     "collapsed": false,
     "input": [
      "# PLOT 1\n",
      "# x-axis: time of day (in minutes)\n",
      "# y-axis: no. of engagements (RT count + likes)\n",
      "# ignoring retweets \n",
      "# each tweet is a point, placed on the graph based on the # of engagements \n",
      "\n",
      "#return list of (time in minutes, number of engagements) \n",
      "def get_list_of_tweets(np_array):\n",
      "    li = []\n",
      "    #get list of (time, no. engagements)\n",
      "    for tweet in np_array: \n",
      "        isRetweet = tweet[5]\n",
      "        #ignore retweets \n",
      "        if isRetweet: \n",
      "            continue\n",
      "        #correct time to EST\n",
      "        est = tweet[0] - dt.timedelta(hours=5)\n",
      "        time_of_day = est.hour*60 + est.minute\n",
      "        retweets = tweet[4]\n",
      "        favorites = tweet[6]\n",
      "        no_engagements = retweets + favorites \n",
      "        li.append((time_of_day, no_engagements))\n",
      "    return li\n",
      "#li.sort()\n",
      "li = get_list_of\n",
      "print li"
     ],
     "language": "python",
     "metadata": {},
     "outputs": [
      {
       "output_type": "stream",
       "stream": "stdout",
       "text": [
        "[(579, 0), (770, 0), (947, 0), (895, 1), (864, 0), (785, 0), (783, 0), (752, 0), (466, 0), (1168, 2), (1007, 0), (987, 0), (967, 0), (961, 0), (958, 0), (800, 0), (777, 1), (675, 1), (909, 0), (904, 0), (877, 0), (882, 1), (1023, 2), (627, 1), (930, 0), (781, 1), (528, 1), (887, 10), (593, 0), (401, 1), (396, 3), (729, 0), (481, 0), (1135, 3), (648, 0), (845, 0), (844, 1), (481, 0), (909, 1), (854, 1), (434, 0), (425, 0), (1043, 2), (917, 4), (529, 0), (1053, 0), (697, 0), (696, 1), (1039, 0), (776, 1), (624, 0), (685, 2), (934, 0), (985, 0), (971, 0), (592, 1), (589, 0), (798, 1), (507, 9), (845, 0), (836, 1), (793, 1), (789, 5), (778, 0), (1000, 0), (980, 6), (830, 1), (769, 0)]\n"
       ]
      }
     ],
     "prompt_number": 99
    },
    {
     "cell_type": "code",
     "collapsed": false,
     "input": [
      "plt.scatter(*zip(*li))\n",
      "plt.xlim([0,1440])\n",
      "plt.ylim(bottom=0)"
     ],
     "language": "python",
     "metadata": {},
     "outputs": [
      {
       "metadata": {},
       "output_type": "pyout",
       "prompt_number": 86,
       "text": [
        "(0, 12.0)"
       ]
      },
      {
       "metadata": {},
       "output_type": "display_data",
       "png": "[encoded data removed]",
       "text": [
        "<matplotlib.figure.Figure at 0x10f984b10>"
       ]
      }
     ],
     "prompt_number": 86
    },
    {
     "cell_type": "code",
     "collapsed": false,
     "input": [
      "## COULD USE IMPROVEMENT## \n",
      "\n",
      "# data: list of tuples in (minute, no engaments) form \n",
      "# window: int \n",
      "# returns ((start time in minutes, end time in minutes), average no of engagments per tweet)\n",
      "def best_time(data, window): \n",
      "    data.sort()\n",
      "    time_frame = (data[0][0],data[0][0] + window)\n",
      "    best_time_frame = time_frame\n",
      "    num_tweets = 1\n",
      "    num_engagements = data[0][1]\n",
      "    avg = 0\n",
      "    checked = [data[0]]\n",
      "    low_index = 0\n",
      "    high_index = 0\n",
      "    while high_index < len(data) -1:\n",
      "        \n",
      "        #if the next datapoint is within the timeframe... \n",
      "        if data[high_index+1][0] < time_frame[1]:\n",
      "            high_index +=1\n",
      "            num_tweets += 1 \n",
      "            num_engagements += data[high_index][1]\n",
      "            new_avg = num_engagements/num_tweets\n",
      "        #if the next datapoint isn't within the timeframe, change timeframe... \n",
      "        else: \n",
      "            num_tweets -= 1\n",
      "            num_engagements -= data[low_index][1]\n",
      "            low_index += 1\n",
      "            time_frame = (data[low_index][0], data[low_index][0] + window)       \n",
      "\n",
      "        if new_avg > avg: \n",
      "            avg = new_avg\n",
      "            best_time_frame = time_frame\n",
      "    return (best_time_frame, avg)\n",
      "\n",
      "print best_time(li, 60)\n",
      "print best_time(li, 120)\n",
      "print best_time(li, 30)"
     ],
     "language": "python",
     "metadata": {},
     "outputs": [
      {
       "output_type": "stream",
       "stream": "stdout",
       "text": [
        "((1135, 1195), 3)\n",
        "((396, 516), 2)\n",
        "((507, 537), 5)\n"
       ]
      }
     ],
     "prompt_number": 115
    },
    {
     "cell_type": "code",
     "collapsed": false,
     "input": [
      "def minutes_to_time(myMinutes): \n",
      "    hours = myMinutes / 60\n",
      "    minutes = myMinutes % 60\n",
      "    time = \"%d:%02d\" % (hours, minutes)\n",
      "    return time\n"
     ],
     "language": "python",
     "metadata": {},
     "outputs": [
      {
       "metadata": {},
       "output_type": "pyout",
       "prompt_number": 117,
       "text": [
        "'18:55'"
       ]
      }
     ],
     "prompt_number": 117
    },
    {
     "cell_type": "code",
     "collapsed": false,
     "input": [
      "#caclulate the things\n",
      "\n"
     ],
     "language": "python",
     "metadata": {},
     "outputs": []
    }
   ],
   "metadata": {}
  }
 ]
}