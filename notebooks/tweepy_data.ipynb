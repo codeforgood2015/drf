{
 "metadata": {
  "name": "",
  "signature": "sha256:842a4023ad9513c8c12a28368c0bdfea722b5af4e9149cfac08becc559f13482"
 },
 "nbformat": 3,
 "nbformat_minor": 0,
 "worksheets": [
  {
   "cells": [
    {
     "cell_type": "code",
     "collapsed": false,
     "input": [
      "import tweepy\n",
      "import pandas as pd\n",
      "import numpy as np\n",
      "\n",
      "CONSUMER_KEY = \"\"\n",
      "CONSUMER_SECRET = \"\"\n",
      "OAUTH_TOKEN = \"\"\n",
      "OAUTH_TOKEN_SECRET =\"\"\n",
      "\n",
      "auth = tweepy.OAuthHandler(CONSUMER_KEY, CONSUMER_SECRET)\n",
      "auth.set_access_token(OAUTH_TOKEN, OAUTH_TOKEN_SECRET)\n",
      "\n",
      "#Graph Settings\n",
      "pd.set_option('display.mpl_style', 'default')\n",
      "# Always display all the columns\n",
      "pd.set_option('display.width', 5000) \n",
      "pd.set_option('display.max_columns', 60) \n",
      "\n",
      "api = tweepy.API(auth)\n",
      "\n",
      "public_tweets = api.home_timeline()\n",
      "print 'ready!'"
     ],
     "language": "python",
     "metadata": {},
     "outputs": [
      {
       "output_type": "stream",
       "stream": "stdout",
       "text": [
        "ready!\n"
       ]
      }
     ],
     "prompt_number": 30
    },
    {
     "cell_type": "code",
     "collapsed": false,
     "input": [
      "#Given a twitter screen_name (user name), as string,\n",
      "#get dataframe of twitter data\n",
      "def get_data(screen_name):\n",
      "    df = pd.DataFrame(columns=('created_at', 'id', 'text', 'hashtag_count', 'retweet_count', \n",
      "                               'retweeted', 'favorites_count', 'has_photo'), dtype=None)\n",
      "    \n",
      "    #populating dataframe\n",
      "    for item in tweepy.Cursor(api.user_timeline, screen_name=screen_name).items(100):\n",
      "        index = len(df)\n",
      "\n",
      "        hashtags=[]\n",
      "        for ht in item.entities['hashtags']:\n",
      "            hashtags.append(ht['text'])\n",
      "\n",
      "        try:\n",
      "            has_photo = item.entities['media'][0]['type']=='photo'\n",
      "        except KeyError:\n",
      "            has_photo = False\n",
      "\n",
      "        df.set_value(index, 'id', item.id)\n",
      "        df.set_value(index, 'text', item.text)\n",
      "        df.set_value(index, 'hashtags', str(hashtags))\n",
      "        df.set_value(index, 'hashtag_count', len(hashtags))\n",
      "        df.set_value(index, 'retweet_count', item.retweet_count)\n",
      "        df.set_value(index, 'retweeted', is_retweet(item.text))\n",
      "        df.set_value(index, 'favorites_count', item.favorite_count)\n",
      "        df.set_value(index, 'created_at', item.created_at)\n",
      "        df.set_value(index, 'has_photo', has_photo)\n",
      "\n",
      "    df['hashtags'] = df['hashtags'].astype(object)\n",
      "    df['retweet_count'] = df['retweet_count'].astype(int)\n",
      "    df['favorites_count'] = df['favorites_count'].astype(int)\n",
      "    df['month'] = [dt.month for dt in df['created_at']]\n",
      "    df['weekday'] = [dt.weekday() for dt in df['created_at']]\n",
      "    df['hour'] = [dt.hour for dt in df['created_at']]\n",
      "    df['created_at'] = df['created_at'] - datetime.timedelta(hours=5)\n",
      "    \n",
      "    return df\n",
      "\n",
      "#Given data (as dataframe) and time_step (string: 'weekday', 'hour', month')\n",
      "def plot_engagement(data, time_step):\n",
      "    accepted_steps = ('month', 'weekday', 'hour')\n",
      "    if time_step not in accepted_steps:\n",
      "        print 'incorrect time step!'\n",
      "        return False\n",
      "    \n",
      "    if time_step=='month':\n",
      "        output = data[['retweet_count', 'favorites_count']].groupby(data['month']).agg(mean)\n",
      "#         output.index = ['Jan', 'Feb', 'Mar', 'Apr', 'May', 'June', 'July', 'Aug', 'Sep', 'Out', 'Nov', 'Dec']\n",
      "    elif time_step=='weekday':               \n",
      "        output = data[['retweet_count', 'favorites_count']].groupby(data['weekday']).agg(mean)\n",
      "#         output.index = ['Mon', 'Tues', 'Wed', 'Thurs', 'Fri', 'Sat', 'Sun']\n",
      "    elif time_step=='hour':               \n",
      "        output = data[['retweet_count', 'favorites_count']].groupby(data['hour']).agg(mean)\n",
      "    \n",
      "    output.plot(kind='bar', stacked='True')        \n",
      "    return True\n",
      "\n",
      "################## HELPER FUNCTIONS ##################\n",
      "\n",
      "#Given twitter, message redetermines if it is retweet\n",
      "#(if it begins with \"RT @\"...)\n",
      "def is_retweet(msg):\n",
      "    if len(msg)<4:\n",
      "        return false\n",
      "    return msg[0:4]==\"RT @\"\n",
      "\n",
      "print 'done'"
     ],
     "language": "python",
     "metadata": {},
     "outputs": [
      {
       "output_type": "stream",
       "stream": "stdout",
       "text": [
        "done\n"
       ]
      }
     ],
     "prompt_number": 110
    },
    {
     "cell_type": "code",
     "collapsed": false,
     "input": [
      "#Getting data for DRF and The Arc\n",
      "drf = get_data('DisabRightsFund')\n",
      "arc = get_data('TheArcUS')\n",
      "print 'done!'"
     ],
     "language": "python",
     "metadata": {},
     "outputs": [
      {
       "html": [
        "<div style=\"max-height:1000px;max-width:1500px;overflow:auto;\">\n",
        "<table border=\"1\" class=\"dataframe\">\n",
        "  <thead>\n",
        "    <tr style=\"text-align: right;\">\n",
        "      <th></th>\n",
        "      <th>created_at</th>\n",
        "      <th>id</th>\n",
        "      <th>text</th>\n",
        "      <th>hashtag_count</th>\n",
        "      <th>retweet_count</th>\n",
        "      <th>retweeted</th>\n",
        "      <th>favorites_count</th>\n",
        "      <th>has_photo</th>\n",
        "      <th>hashtags</th>\n",
        "      <th>month</th>\n",
        "      <th>weekday</th>\n",
        "      <th>hour</th>\n",
        "    </tr>\n",
        "  </thead>\n",
        "  <tbody>\n",
        "    <tr>\n",
        "      <th>0</th>\n",
        "      <td>2015-01-12 09:47:21</td>\n",
        "      <td> 554650845548007424</td>\n",
        "      <td> There Is No Police Exception to the Americans ...</td>\n",
        "      <td> 0</td>\n",
        "      <td> 0</td>\n",
        "      <td> False</td>\n",
        "      <td> 0</td>\n",
        "      <td> False</td>\n",
        "      <td>          []</td>\n",
        "      <td> 1</td>\n",
        "      <td> 0</td>\n",
        "      <td> 14</td>\n",
        "    </tr>\n",
        "    <tr>\n",
        "      <th>1</th>\n",
        "      <td>2015-01-12 09:28:56</td>\n",
        "      <td> 554646210980499457</td>\n",
        "      <td> Two Massachusetts Disability Rights Victories:...</td>\n",
        "      <td> 0</td>\n",
        "      <td> 0</td>\n",
        "      <td> False</td>\n",
        "      <td> 0</td>\n",
        "      <td> False</td>\n",
        "      <td>          []</td>\n",
        "      <td> 1</td>\n",
        "      <td> 0</td>\n",
        "      <td> 14</td>\n",
        "    </tr>\n",
        "    <tr>\n",
        "      <th>2</th>\n",
        "      <td>2015-01-08 13:57:19</td>\n",
        "      <td> 553264200685211648</td>\n",
        "      <td> RT @DSiupdate: DSi announces 4th Annual WDSD C...</td>\n",
        "      <td> 1</td>\n",
        "      <td> 4</td>\n",
        "      <td>  True</td>\n",
        "      <td> 0</td>\n",
        "      <td> False</td>\n",
        "      <td> [u'WDSD15']</td>\n",
        "      <td> 1</td>\n",
        "      <td> 3</td>\n",
        "      <td> 18</td>\n",
        "    </tr>\n",
        "  </tbody>\n",
        "</table>\n",
        "</div>"
       ],
       "metadata": {},
       "output_type": "pyout",
       "prompt_number": 114,
       "text": [
        "           created_at                  id                                               text hashtag_count  retweet_count retweeted  favorites_count has_photo     hashtags  month  weekday  hour\n",
        "0 2015-01-12 09:47:21  554650845548007424  There Is No Police Exception to the Americans ...             0              0     False                0     False           []      1        0    14\n",
        "1 2015-01-12 09:28:56  554646210980499457  Two Massachusetts Disability Rights Victories:...             0              0     False                0     False           []      1        0    14\n",
        "2 2015-01-08 13:57:19  553264200685211648  RT @DSiupdate: DSi announces 4th Annual WDSD C...             1              4      True                0     False  [u'WDSD15']      1        3    18"
       ]
      }
     ],
     "prompt_number": 114
    },
    {
     "cell_type": "code",
     "collapsed": false,
     "input": [
      "#Looking at top 3 rows.\n",
      "arc.head(3)"
     ],
     "language": "python",
     "metadata": {},
     "outputs": [
      {
       "html": [
        "<div style=\"max-height:1000px;max-width:1500px;overflow:auto;\">\n",
        "<table border=\"1\" class=\"dataframe\">\n",
        "  <thead>\n",
        "    <tr style=\"text-align: right;\">\n",
        "      <th></th>\n",
        "      <th>created_at</th>\n",
        "      <th>id</th>\n",
        "      <th>text</th>\n",
        "      <th>hashtag_count</th>\n",
        "      <th>retweet_count</th>\n",
        "      <th>retweeted</th>\n",
        "      <th>favorites_count</th>\n",
        "      <th>has_photo</th>\n",
        "      <th>hashtags</th>\n",
        "      <th>month</th>\n",
        "      <th>weekday</th>\n",
        "      <th>hour</th>\n",
        "    </tr>\n",
        "  </thead>\n",
        "  <tbody>\n",
        "    <tr>\n",
        "      <th>0</th>\n",
        "      <td>2015-01-09 11:16:17</td>\n",
        "      <td> 553586065970561024</td>\n",
        "      <td> Upcoming webinar series by the National Collab...</td>\n",
        "      <td> 0</td>\n",
        "      <td>  4</td>\n",
        "      <td> False</td>\n",
        "      <td> 2</td>\n",
        "      <td> False</td>\n",
        "      <td>                  []</td>\n",
        "      <td> 1</td>\n",
        "      <td> 4</td>\n",
        "      <td> 16</td>\n",
        "    </tr>\n",
        "    <tr>\n",
        "      <th>1</th>\n",
        "      <td>2015-01-08 15:39:25</td>\n",
        "      <td> 553289897738788865</td>\n",
        "      <td> Join us, @KBPorterfield, and @sibleadership on...</td>\n",
        "      <td> 1</td>\n",
        "      <td>  5</td>\n",
        "      <td> False</td>\n",
        "      <td> 0</td>\n",
        "      <td> False</td>\n",
        "      <td> [u'FuturePlanning']</td>\n",
        "      <td> 1</td>\n",
        "      <td> 3</td>\n",
        "      <td> 20</td>\n",
        "    </tr>\n",
        "    <tr>\n",
        "      <th>2</th>\n",
        "      <td>2015-01-08 13:40:04</td>\n",
        "      <td> 553259861707071489</td>\n",
        "      <td> The Arc Calls on Governor McAuliffe to Grant a...</td>\n",
        "      <td> 1</td>\n",
        "      <td> 14</td>\n",
        "      <td> False</td>\n",
        "      <td> 4</td>\n",
        "      <td> False</td>\n",
        "      <td>       [u'FreeNeli']</td>\n",
        "      <td> 1</td>\n",
        "      <td> 3</td>\n",
        "      <td> 18</td>\n",
        "    </tr>\n",
        "  </tbody>\n",
        "</table>\n",
        "</div>"
       ],
       "metadata": {},
       "output_type": "pyout",
       "prompt_number": 115,
       "text": [
        "           created_at                  id                                               text hashtag_count  retweet_count retweeted  favorites_count has_photo             hashtags  month  weekday  hour\n",
        "0 2015-01-09 11:16:17  553586065970561024  Upcoming webinar series by the National Collab...             0              4     False                2     False                   []      1        4    16\n",
        "1 2015-01-08 15:39:25  553289897738788865  Join us, @KBPorterfield, and @sibleadership on...             1              5     False                0     False  [u'FuturePlanning']      1        3    20\n",
        "2 2015-01-08 13:40:04  553259861707071489  The Arc Calls on Governor McAuliffe to Grant a...             1             14     False                4     False        [u'FreeNeli']      1        3    18"
       ]
      }
     ],
     "prompt_number": 115
    },
    {
     "cell_type": "code",
     "collapsed": false,
     "input": [
      "#Plotting data by weekday (only original tweets, NOT retweets)\n",
      "plot_engagement(drf[drf['retweeted']==False], 'weekday')\n",
      "plot_engagement(arc[arc['retweeted']==False], 'weekday')"
     ],
     "language": "python",
     "metadata": {},
     "outputs": [
      {
       "metadata": {},
       "output_type": "pyout",
       "prompt_number": 112,
       "text": [
        "True"
       ]
      },
      {
       "metadata": {},
       "output_type": "display_data",
       "png": "[encoded data removed]",
       "text": [
        "<matplotlib.figure.Figure at 0x10d4fa250>"
       ]
      },
      {
       "metadata": {},
       "output_type": "display_data",
       "png": "[encoded data removed]",
       "text": [
        "<matplotlib.figure.Figure at 0x10d8b0690>"
       ]
      }
     ],
     "prompt_number": 112
    },
    {
     "cell_type": "code",
     "collapsed": false,
     "input": [
      "#Plotting data by hour (only original tweets, NOT retweets)\n",
      "plot_engagement(drf[drf['retweeted']==False], 'hour')\n",
      "plot_engagement(arc[arc['retweeted']==False], 'hour')"
     ],
     "language": "python",
     "metadata": {},
     "outputs": [
      {
       "metadata": {},
       "output_type": "pyout",
       "prompt_number": 113,
       "text": [
        "True"
       ]
      },
      {
       "metadata": {},
       "output_type": "display_data",
       "png": "[encoded data removed]",
       "text": [
        "<matplotlib.figure.Figure at 0x10e3b1bd0>"
       ]
      },
      {
       "metadata": {},
       "output_type": "display_data",
       "png": "[encoded data removed]",
       "text": [
        "<matplotlib.figure.Figure at 0x10e811cd0>"
       ]
      }
     ],
     "prompt_number": 113
    },
    {
     "cell_type": "code",
     "collapsed": false,
     "input": [
      "#Plotting data by month (only original tweets, NOT retweets)\n",
      "plot_engagement(drf[drf['retweeted']==False], 'month')\n",
      "plot_engagement(arc[arc['retweeted']==False], 'month')"
     ],
     "language": "python",
     "metadata": {},
     "outputs": [
      {
       "metadata": {},
       "output_type": "pyout",
       "prompt_number": 105,
       "text": [
        "True"
       ]
      },
      {
       "metadata": {},
       "output_type": "display_data",
       "png": "[encoded data removed]",
       "text": [
        "<matplotlib.figure.Figure at 0x10d7192d0>"
       ]
      },
      {
       "metadata": {},
       "output_type": "display_data",
       "png": "[encoded data removed]",
       "text": [
        "<matplotlib.figure.Figure at 0x10e8769d0>"
       ]
      }
     ],
     "prompt_number": 105
    }
   ],
   "metadata": {}
  }
 ]
}